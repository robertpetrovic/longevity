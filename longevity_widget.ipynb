{
 "cells": [
  {
   "cell_type": "code",
   "execution_count": 57,
   "metadata": {
    "pycharm": {
     "is_executing": true,
     "name": "#%%\n"
    }
   },
   "outputs": [],
   "source": [
    "import pandas as pd \n",
    "import numpy as np\n",
    "%matplotlib inline\n",
    "import matplotlib\n",
    "from matplotlib import pyplot as plt\n",
    "matplotlib.rcParams['figure.dpi'] = 200\n",
    "plt.style.use('seaborn')\n",
    "from ipywidgets import interact, interactive, fixed, interact_manual,HBox, Layout,VBox,Label\n",
    "import ipywidgets as widgets"
   ]
  },
  {
   "cell_type": "code",
   "execution_count": 3,
   "metadata": {
    "pycharm": {
     "name": "#%%\n"
    }
   },
   "outputs": [],
   "source": [
    "age = np.arange(1,120)\n",
    "df = {'genomic instability':5+0.01*np.power(age,2),\n",
    "     'loss of proteostasis':5+0.05*np.power(age,1.5),\n",
    "     'stem cell exhaustion':5+0.05*np.power(age,1.5),\n",
    "     'epigenetic alterations':5+0.05*np.power(age,1.5),\n",
    "     'mitochondrial dysfunction':5+0.05*np.power(age,1.5),\n",
    "     'telomere attrition':5+0.05*np.power(age,1.5),\n",
    "     'cellular senescence':5+np.power(age,1.05)\n",
    "     }\n",
    "\n",
    "interaction_term = 0\n",
    "\n",
    "df = pd.DataFrame(df)\n",
    "df['interaction'] = df.sum(axis=1)*0.1\n",
    "reset_df = df.copy()\n",
    "\n",
    "total = df.iloc[-1,:].sum()\n",
    "threshold = total/2"
   ]
  },
  {
   "cell_type": "code",
   "execution_count": 159,
   "metadata": {},
   "outputs": [],
   "source": [
    "# Here's where you can update how the interaction layer is calculated\n",
    "# and how the negative variables can affect each variable in the dataframe\n",
    "\n",
    "def dataframe_update(dataframe,v,t_y,neg,cmap):\n",
    "    global threshold\n",
    "    \n",
    "    dataframe[v] = t_y\n",
    "    \n",
    "    # negative variable scaling: you can adjust the scaling for each variable\n",
    "    # depending on literature\n",
    "    if neg != 'none':\n",
    "        if neg == 'smoking':\n",
    "            variable_scaling = {'genomic instability':1.2,\n",
    "                            'loss of proteostasis':1.2,\n",
    "                            'stem cell exhaustion':1.2,\n",
    "                            'epigenetic alterations':1.2,\n",
    "                            'mitochondrial dysfunction':1.2,\n",
    "                            'telomere attrition':1.2,\n",
    "                            'cellular senescence':1.2}\n",
    "        else:\n",
    "            # this is just a placeholder. Copy paste the section under smoking to\n",
    "            # customize scaling for each harmful variable\n",
    "            variable_scaling = {key:1.0 for key in dataframe.columns.tolist()}\n",
    "            \n",
    "        harmed_dataframe = pd.DataFrame({key:dataframe[key].values*variable_scaling[key] for key in variable_scaling.keys()})\n",
    "        harmed_dataframe['interaction'] = dataframe.iloc[:,:-1].sum(axis=1)*0.1 #interaction layer calculation\n",
    "\n",
    "    \n",
    "    dataframe['interaction'] = dataframe.iloc[:,:-1].sum(axis=1)*0.1 #interaction layer calculation\n",
    "    \n",
    "    if neg == 'none':\n",
    "        ax = dataframe.plot.area(colormap=cmap,figsize=(10,5),linewidth=0)\n",
    "        try:\n",
    "            death_age = next(x[0] for x in enumerate(dataframe.sum(axis=1)) if x[1] > threshold)\n",
    "        except:\n",
    "            death_age = 120\n",
    "    else:\n",
    "        ax = harmed_dataframe.plot.area(colormap=cmap,figsize=(10,5),linewidth=0)\n",
    "        try:\n",
    "            death_age = next(x[0] for x in enumerate(harmed_dataframe.sum(axis=1)) if x[1] > threshold)\n",
    "        except:\n",
    "            death_age = 120\n",
    "    return ax,death_age,dataframe"
   ]
  },
  {
   "cell_type": "code",
   "execution_count": 160,
   "metadata": {},
   "outputs": [],
   "source": [
    "def plot_areas(intervention_age = 60, variable = 'genomic instability', harmful_variable = 'none', therapeutic_factor = 0.0, colormap='viridis', multiple = False, reset = False): \n",
    "    \n",
    "    global df\n",
    "    temp_df = reset_df.copy()\n",
    "    \n",
    "    if reset: df = reset_df.copy()\n",
    "        \n",
    "    temp_y = temp_df[variable].values \n",
    "    temp_y[intervention_age:] *= (1.0 - therapeutic_factor)\n",
    "    \n",
    "    global threshold\n",
    "    \n",
    "    if not multiple:\n",
    "        ax,death_age,temp_df = dataframe_update(temp_df,variable,temp_y,harmful_variable,colormap)\n",
    "    else:\n",
    "        ax,death_age,df = dataframe_update(df,variable,temp_y,harmful_variable,colormap)\n",
    "        \n",
    "    ax.collections[-1].set_alpha(0.5)\n",
    "    ax.collections[-1].set_hatch('\\\\')\n",
    "    ax.collections[-1].set_color('gray')\n",
    "    \n",
    "    leg = plt.legend()\n",
    "    leg.legendHandles[-1].set_alpha(0.5)\n",
    "    \n",
    "    plt.axhline(y=threshold, color='r', linestyle='--')\n",
    "    if death_age<120:\n",
    "        plt.scatter(death_age,threshold,marker='.',c='red',s=80)\n",
    "        plt.text(death_age,threshold*1.05,str(death_age),fontsize=10,color='red')\n",
    "        plt.text(2, threshold*1.05, 'YOU DIE AT:', fontsize = 10, color='red')\n",
    "    else:\n",
    "        plt.text(2, threshold*1.05, 'Longevity goal achieved', fontsize = 10, color='red')\n",
    "    plt.xlim(0,len(age))\n",
    "    plt.ylim(0,total)\n",
    "    plt.xlabel('age')\n",
    "    plt.ylabel('cellular damage')\n",
    "    plt.title('Accumulated Cellular Damage')"
   ]
  },
  {
   "cell_type": "code",
   "execution_count": 161,
   "metadata": {},
   "outputs": [
    {
     "data": {
      "application/vnd.jupyter.widget-view+json": {
       "model_id": "45b9d1dde0434901a70c84f9ef60b1ef",
       "version_major": 2,
       "version_minor": 0
      },
      "text/plain": [
       "VBox(children=(HBox(children=(VBox(children=(Dropdown(description='variable', index=3, options=('genomic insta…"
      ]
     },
     "metadata": {},
     "output_type": "display_data"
    }
   ],
   "source": [
    "df = reset_df.copy()\n",
    "\n",
    "colormap = widgets.Dropdown(\n",
    "    options = ['magma','viridis','plasma','inferno','cividis']\n",
    ")\n",
    "intervention_age = widgets.IntSlider(\n",
    "    value = 60,\n",
    "    min = 0,\n",
    "    max = 120,\n",
    "    step = 10\n",
    ")\n",
    "variable = widgets.Dropdown(\n",
    "    options = df.columns.tolist()[:-1],\n",
    "    value='epigenetic alterations'\n",
    ")\n",
    "harmful_variable = widgets.Dropdown(\n",
    "    options = ['none','smoking','obesity','low socioeconomic status'],\n",
    "    value='none'\n",
    ")\n",
    "therapeutic_factor = widgets.FloatSlider(\n",
    "    value = 0.0, \n",
    "    min = 0.0,\n",
    "    max = 1.0,\n",
    "    step = 0.1,\n",
    "    readout_format='.1f'\n",
    ")\n",
    "\n",
    "widget=interactive(plot_areas,\n",
    "                   variable=variable,\n",
    "                   colormap=colormap,\n",
    "                   intervention_age=intervention_age,\n",
    "                   therapeutic_factor=therapeutic_factor,\n",
    "                   harmful_variable=harmful_variable\n",
    "                   )\n",
    "#creates a custom arragement of how the widgets are placed\n",
    "controls = HBox((VBox((variable,intervention_age,therapeutic_factor)),\n",
    "                VBox((harmful_variable,colormap)),\n",
    "                VBox((widget.children[-3:-1]))))\n",
    "output = widget.children[-1]\n",
    "display(VBox([controls, output]))"
   ]
  },
  {
   "cell_type": "code",
   "execution_count": null,
   "metadata": {},
   "outputs": [],
   "source": []
  }
 ],
 "metadata": {
  "kernelspec": {
   "display_name": "Python 3",
   "language": "python",
   "name": "python3"
  },
  "language_info": {
   "codemirror_mode": {
    "name": "ipython",
    "version": 3
   },
   "file_extension": ".py",
   "mimetype": "text/x-python",
   "name": "python",
   "nbconvert_exporter": "python",
   "pygments_lexer": "ipython3",
   "version": "3.8.3"
  }
 },
 "nbformat": 4,
 "nbformat_minor": 4
}
