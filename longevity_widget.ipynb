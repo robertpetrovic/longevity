{
 "cells": [
  {
   "cell_type": "code",
   "execution_count": 219,
   "metadata": {
    "pycharm": {
     "is_executing": true,
     "name": "#%%\n"
    }
   },
   "outputs": [],
   "source": [
    "import pandas as pd \n",
    "import numpy as np\n",
    "%matplotlib inline\n",
    "import matplotlib\n",
    "from matplotlib import pyplot as plt\n",
    "matplotlib.rcParams['figure.dpi'] = 200\n",
    "plt.style.use('seaborn')\n",
    "from ipywidgets import interact, interactive, fixed, interact_manual\n",
    "import ipywidgets as widgets"
   ]
  },
  {
   "cell_type": "code",
   "execution_count": 220,
   "metadata": {
    "pycharm": {
     "name": "#%%\n"
    }
   },
   "outputs": [],
   "source": [
    "age = np.arange(1,120)\n",
    "df = {'genomic instability':5+0.01*np.power(age,2),\n",
    "     'loss of proteostasis':5+0.05*np.power(age,1.5),\n",
    "     'stem cell exhaustion':5+0.05*np.power(age,1.5),\n",
    "     'epigenetic alterations':5+0.05*np.power(age,1.5),\n",
    "     'mitochondrial dysfunction':5+0.05*np.power(age,1.5),\n",
    "     'telomere attrition':5+0.05*np.power(age,1.5),\n",
    "     'cellular senescence':5+np.power(age,1.05)\n",
    "     }\n",
    "\n",
    "interaction_term = 0\n",
    "\n",
    "df = pd.DataFrame(df)\n",
    "df['interaction'] = df.sum(axis=1)*0.1\n",
    "reset_df = df.copy()\n",
    "\n",
    "total = df.iloc[-1,:].sum()\n",
    "threshold = total/2"
   ]
  },
  {
   "cell_type": "code",
   "execution_count": 221,
   "metadata": {
    "pycharm": {
     "name": "#%%\n"
    }
   },
   "outputs": [],
   "source": [
    "def plot_areas(intervention_age = 60, variable = 'genomic instability', therapeutic_factor = 0.0, colormap='viridis', multiple = False, reset = False): \n",
    "    \n",
    "    global df\n",
    "    temp_df = reset_df.copy()\n",
    "    \n",
    "    if reset: df = reset_df.copy()\n",
    "        \n",
    "    temp_y = temp_df[variable].values \n",
    "    temp_y[intervention_age:] *= (1.0 - therapeutic_factor)\n",
    "    \n",
    "    global threshold\n",
    "    \n",
    "    if not multiple:\n",
    "        temp_df[variable] = temp_y\n",
    "        ax = temp_df.plot.area(colormap=colormap,figsize=(10,5),linewidth=0)\n",
    "        death_age = next(x[0] for x in enumerate(temp_df.sum(axis=1)) if x[1] > threshold)\n",
    "    else:\n",
    "        df[variable] = temp_y\n",
    "        ax = df.plot.area(colormap=colormap,figsize=(10,5),linewidth=0)\n",
    "        death_age = next(x[0] for x in enumerate(df.sum(axis=1)) if x[1] > threshold)\n",
    "        \n",
    "    ax.collections[-1].set_alpha(0.5)\n",
    "    ax.collections[-1].set_hatch('\\\\')\n",
    "    ax.collections[-1].set_color('gray')\n",
    "    \n",
    "    leg = plt.legend()\n",
    "    leg.legendHandles[-1].set_alpha(0.5)\n",
    "    \n",
    "    \n",
    "\n",
    "    plt.axhline(y=threshold, color='r', linestyle='--')\n",
    "    plt.scatter(death_age,threshold,marker='.',c='red',s=80)\n",
    "    plt.text(death_age,threshold*1.05,str(death_age),fontsize=10,color='red')\n",
    "    plt.text(2, threshold*1.05, 'YOU DIE AT:', fontsize = 10, color='red')\n",
    "    plt.xlim(0,len(age))\n",
    "    plt.ylim(0,total)\n",
    "    plt.xlabel('age')\n",
    "    plt.ylabel('cellular damage')\n",
    "    plt.title('Accumulated Cellular Damage')"
   ]
  },
  {
   "cell_type": "code",
   "execution_count": 222,
   "metadata": {
    "pycharm": {
     "name": "#%%\n"
    },
    "scrolled": false
   },
   "outputs": [
    {
     "data": {
      "application/vnd.jupyter.widget-view+json": {
       "model_id": "49adc05666a0452c85c0ca00adef98df",
       "version_major": 2,
       "version_minor": 0
      },
      "text/plain": [
       "interactive(children=(IntSlider(value=60, description='intervention_age', max=120, step=10), Dropdown(descript…"
      ]
     },
     "metadata": {},
     "output_type": "display_data"
    }
   ],
   "source": [
    "_ = interact(plot_areas,\n",
    "             colormap = widgets.Dropdown(\n",
    "                 options = ['magma','viridis','plasma','inferno','cividis']\n",
    "                 ),\n",
    "             intervention_age = widgets.IntSlider(\n",
    "                 value = 60,\n",
    "                 min = 0,\n",
    "                 max = 120,\n",
    "                 step = 10\n",
    "                ),\n",
    "             variable = widgets.Dropdown(\n",
    "                 options = df.columns.tolist(),value='epigenetic alterations'\n",
    "                 ),\n",
    "             therapeutic_factor = widgets.FloatSlider(\n",
    "                value = 0.0, \n",
    "                min = 0.0,\n",
    "                max = 1.0,\n",
    "                step = 0.1,\n",
    "                readout_format='.1f')\n",
    "            )"
   ]
  },
  {
   "cell_type": "code",
   "execution_count": null,
   "metadata": {
    "pycharm": {
     "name": "#%%\n"
    }
   },
   "outputs": [],
   "source": []
  }
 ],
 "metadata": {
  "kernelspec": {
   "display_name": "Python 3",
   "language": "python",
   "name": "python3"
  },
  "language_info": {
   "codemirror_mode": {
    "name": "ipython",
    "version": 3
   },
   "file_extension": ".py",
   "mimetype": "text/x-python",
   "name": "python",
   "nbconvert_exporter": "python",
   "pygments_lexer": "ipython3",
   "version": "3.8.3"
  }
 },
 "nbformat": 4,
 "nbformat_minor": 4
}
